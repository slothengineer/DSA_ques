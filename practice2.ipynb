{
 "cells": [
  {
   "cell_type": "markdown",
   "id": "49cf4745-bc6e-4117-be4f-fb2b718738af",
   "metadata": {},
   "source": [
    "### 1.Create a list in python using the followings: 2,3,4,5,6,7 with variable ‘a’\n",
    "    Add ‘mango to the above list\n",
    "    Also add banana, grapes & orange in the list \n",
    "    insert apple in the 5th position of a variable ‘a’\n",
    "    Remove last item from the list\t            "
   ]
  },
  {
   "cell_type": "code",
   "execution_count": 12,
   "id": "7a1562d9-7c84-48b1-9d32-62d37c81c0da",
   "metadata": {},
   "outputs": [
    {
     "name": "stdout",
     "output_type": "stream",
     "text": [
      "[2, 3, 4, 5, 'apple', 6, 7, 'mango', 'banana', 'grapes']\n"
     ]
    }
   ],
   "source": [
    "a=[2,3,4,5,6,7]\n",
    "a.append('mango')\n",
    "a.extend(['banana','grapes','orange'])\n",
    "a.insert(4,'apple')\n",
    "a.pop()     ## remove and return the last item from the list\n",
    "\n",
    "print(a)\n"
   ]
  },
  {
   "cell_type": "markdown",
   "id": "5ac3683a-4485-455b-9482-74d66b1c1efe",
   "metadata": {},
   "source": [
    "### 2.L = [1,2,3,4,5,6,7]\n",
    "      Using the above list slice from 1:4"
   ]
  },
  {
   "cell_type": "code",
   "execution_count": 14,
   "id": "ed46edce-df4e-4f64-9f4f-6aee4fe9e842",
   "metadata": {},
   "outputs": [
    {
     "name": "stdout",
     "output_type": "stream",
     "text": [
      "[2, 3, 4]\n"
     ]
    }
   ],
   "source": [
    "L=[1,2,3,4,5,6,7]\n",
    "## sequence[start:stop:step]\n",
    "subset=L[1:4]\n",
    "print(subset)"
   ]
  },
  {
   "cell_type": "markdown",
   "id": "1f4b1330-3542-496f-b926-4c2a8592bbca",
   "metadata": {},
   "source": [
    "### 3. Reverse the order of given string L = [4,5,6,8,3] Without using reverse() function."
   ]
  },
  {
   "cell_type": "code",
   "execution_count": 22,
   "id": "8eb30e8e-0a63-48a3-a2aa-65460748892d",
   "metadata": {},
   "outputs": [
    {
     "name": "stdout",
     "output_type": "stream",
     "text": [
      "[3, 8, 6, 5, 4]\n"
     ]
    }
   ],
   "source": [
    "L=[4,5,6,8,3]\n",
    "l_reversed=L[::-1]  ## this way L will not change \n",
    "\n",
    "print(l_reversed)"
   ]
  },
  {
   "cell_type": "code",
   "execution_count": 25,
   "id": "e2aff78f-9438-479d-853e-c8d84f306ed4",
   "metadata": {},
   "outputs": [
    {
     "name": "stdout",
     "output_type": "stream",
     "text": [
      "[3, 8, 6, 5, 4]\n"
     ]
    }
   ],
   "source": [
    "for i in range(len(L) // 2):  ## to modify 'L'\n",
    "    j = len(L) - i - 1\n",
    "    L[i], L[j] = L[j], L[i]\n",
    "\n",
    "print(L)  \n"
   ]
  },
  {
   "cell_type": "markdown",
   "id": "b0dc4d4a-2c35-4052-b729-6bcb567bd369",
   "metadata": {},
   "source": [
    "### 4.Use list comprehension to square the given list L=[2,4,7,3,6,8]"
   ]
  },
  {
   "cell_type": "code",
   "execution_count": 27,
   "id": "d7ba0709-b934-4775-a246-0590b7cf0110",
   "metadata": {},
   "outputs": [
    {
     "data": {
      "text/plain": [
       "[4, 16, 49, 9, 36, 64]"
      ]
     },
     "execution_count": 27,
     "metadata": {},
     "output_type": "execute_result"
    }
   ],
   "source": [
    "L=[2,4,7,3,6,8]\n",
    "[i**2 for i in L]"
   ]
  },
  {
   "cell_type": "markdown",
   "id": "4e0e0679-c0a2-4dd4-9ed7-cecb7aacc952",
   "metadata": {},
   "source": [
    "### 5.Create a function that takes in a tuple of integers and returns the sum of the integers. Test the function with a tuple of your choice. "
   ]
  },
  {
   "cell_type": "code",
   "execution_count": 28,
   "id": "6d9ef51a-076f-4de5-8f47-c21a9387fb8e",
   "metadata": {},
   "outputs": [
    {
     "name": "stdout",
     "output_type": "stream",
     "text": [
      "0\n"
     ]
    }
   ],
   "source": [
    "def sum_tup(t):\n",
    "    return sum(t)\n",
    "\n",
    "\n",
    "tup=(-2,-1,0,1,2) ## testing\n",
    "print(sum_tup(tup))"
   ]
  },
  {
   "cell_type": "markdown",
   "id": "980c5690-1e5a-429b-87be-2611b325e918",
   "metadata": {},
   "source": [
    "### 6. Create two sets of your favourite fruits, and use the union() method to combine them into a single set. Print the resulting set to the console."
   ]
  },
  {
   "cell_type": "code",
   "execution_count": 31,
   "id": "3be33411-b9f5-4491-8091-f7003acbf812",
   "metadata": {},
   "outputs": [
    {
     "name": "stdout",
     "output_type": "stream",
     "text": [
      "{'papaya', 'kiwi', 'orange', 'mango', 'apple', 'banana'}\n"
     ]
    }
   ],
   "source": [
    "set1={'apple','banana','kiwi'}\n",
    "set2={'orange','mango','papaya'}\n",
    "combined_set=set1.union(set2)\n",
    "print(combined_set)"
   ]
  },
  {
   "cell_type": "markdown",
   "id": "ebdf0db7-33af-4607-b8ef-45c1c1a42ed3",
   "metadata": {},
   "source": [
    "### 7.Create a set of random words, and use the add() method to add a new word to the set. Print the resulting set to the console."
   ]
  },
  {
   "cell_type": "code",
   "execution_count": 33,
   "id": "f4ca94d2-0a13-4c81-9d9f-2d265df2fbd5",
   "metadata": {},
   "outputs": [
    {
     "name": "stdout",
     "output_type": "stream",
     "text": [
      "{'pgup', 'end', 'shift', 'home', 'prtsc'}\n"
     ]
    }
   ],
   "source": [
    "set1={'home','end','pgup','prtsc'}\n",
    "set1.add('shift')\n",
    "print(set1)"
   ]
  },
  {
   "cell_type": "markdown",
   "id": "23df229d-b660-40fd-a314-6a229902b902",
   "metadata": {},
   "source": [
    "### 8. Create a set of your favourite animals, and use the remove() method to remove one animal from the set. Print the resulting set to the console"
   ]
  },
  {
   "cell_type": "code",
   "execution_count": 34,
   "id": "4e0aeef2-d1d5-454a-9c4e-33cc3dfc91f4",
   "metadata": {},
   "outputs": [
    {
     "name": "stdout",
     "output_type": "stream",
     "text": [
      "{'cows', 'deer', 'elephant', 'tiger', 'cats'}\n"
     ]
    }
   ],
   "source": [
    "animals={'dogs','cows','cats','tiger','elephant','deer'}\n",
    "animals.remove('dogs')\n",
    "print(animals)"
   ]
  },
  {
   "cell_type": "markdown",
   "id": "75d30401-67a3-4044-a759-e5d616cc1957",
   "metadata": {},
   "source": [
    "### 9.favorite_books = {\"1984\", \"To Kill a Mockingbird\", \"Pride and Prejudice\"}\n",
    "      favorite_movies = [\"The Shawshank Redemption\", \"The Godfather\", \"The Dark Knight\"]\n",
    "      Use the zip() function to combine the book set and movie list into a list of tuples  representing book/ movie pairs.\n",
    "      Print the resulting list"
   ]
  },
  {
   "cell_type": "code",
   "execution_count": 37,
   "id": "9eca3fc9-359b-4ebf-9976-4f96b2e756be",
   "metadata": {},
   "outputs": [
    {
     "name": "stdout",
     "output_type": "stream",
     "text": [
      "[('1984', 'The Shawshank Redemption'), ('Pride and Prejudice', 'The Godfather'), ('To Kill a Mockingbird', 'The Dark Knight')]\n"
     ]
    }
   ],
   "source": [
    "favorite_books = {\"1984\", \"To Kill a Mockingbird\", \"Pride and Prejudice\"}\n",
    "favorite_movies = [\"The Shawshank Redemption\", \"The Godfather\", \"The Dark Knight\"]\n",
    "book_movie_pair=list(zip(favorite_books,favorite_movies))\n",
    "print(book_movie_pair)"
   ]
  },
  {
   "cell_type": "markdown",
   "id": "a49a1c9f-05f2-4893-acb7-629b7b3d8214",
   "metadata": {},
   "source": [
    "### 10.Write a Python program to find the difference between consecutive numbers in a list.\n"
   ]
  },
  {
   "cell_type": "code",
   "execution_count": 38,
   "id": "6e32d38d-798c-4f39-a509-a40da222aab8",
   "metadata": {},
   "outputs": [
    {
     "name": "stdout",
     "output_type": "stream",
     "text": [
      "[-4, -2, 4, -1]\n"
     ]
    }
   ],
   "source": [
    "def find_diff(lst):\n",
    "    diffs=[]\n",
    "    for i in range(1,len(lst)):\n",
    "        diff=lst[i]-lst[i-1]\n",
    "        diffs.append(diff)\n",
    "    return diffs\n",
    "\n",
    "## testing\n",
    "lst=[8,4,2,6,5]\n",
    "diffs=find_diff(lst)\n",
    "print(diffs)"
   ]
  },
  {
   "cell_type": "code",
   "execution_count": null,
   "id": "0d6e789d-5403-4f6e-acee-02db2d97f82d",
   "metadata": {},
   "outputs": [],
   "source": []
  },
  {
   "cell_type": "code",
   "execution_count": null,
   "id": "a197b6c9-9204-419b-81b1-88f79607af5d",
   "metadata": {},
   "outputs": [],
   "source": []
  }
 ],
 "metadata": {
  "kernelspec": {
   "display_name": "Python 3 (ipykernel)",
   "language": "python",
   "name": "python3"
  },
  "language_info": {
   "codemirror_mode": {
    "name": "ipython",
    "version": 3
   },
   "file_extension": ".py",
   "mimetype": "text/x-python",
   "name": "python",
   "nbconvert_exporter": "python",
   "pygments_lexer": "ipython3",
   "version": "3.10.8"
  }
 },
 "nbformat": 4,
 "nbformat_minor": 5
}

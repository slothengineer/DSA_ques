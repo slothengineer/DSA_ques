{
  "nbformat": 4,
  "nbformat_minor": 0,
  "metadata": {
    "colab": {
      "provenance": []
    },
    "kernelspec": {
      "name": "python3",
      "display_name": "Python 3"
    },
    "language_info": {
      "name": "python"
    }
  },
  "cells": [
    {
      "cell_type": "code",
      "execution_count": 1,
      "metadata": {
        "colab": {
          "base_uri": "https://localhost:8080/"
        },
        "id": "7hmLjMulqHlv",
        "outputId": "f286b8af-c2cd-4214-9aaa-6ae507043f66"
      },
      "outputs": [
        {
          "output_type": "stream",
          "name": "stdout",
          "text": [
            "[1, 3, 12, 0, 0]\n"
          ]
        }
      ],
      "source": [
        "def movezeros(nums):\n",
        "  left=0\n",
        "  for i in range(len(nums)):\n",
        "    if nums[i]!=0:\n",
        "      nums[left]=nums[i]\n",
        "      left+=1\n",
        "  for i in range(left,len(nums)):\n",
        "    nums[i]=0\n",
        "  return nums\n",
        "\n",
        "nums = [0,1,0,3,12]\n",
        "print(movezeros(nums))"
      ]
    },
    {
      "cell_type": "code",
      "source": [
        "nums = [0]\n",
        "print(movezeros(nums))"
      ],
      "metadata": {
        "colab": {
          "base_uri": "https://localhost:8080/"
        },
        "id": "-HE07f8nrYNj",
        "outputId": "96767c22-ac0b-4688-cd29-151adfea503c"
      },
      "execution_count": 2,
      "outputs": [
        {
          "output_type": "stream",
          "name": "stdout",
          "text": [
            "[0]\n"
          ]
        }
      ]
    },
    {
      "cell_type": "code",
      "source": [],
      "metadata": {
        "id": "KGmEm4gfrkv3"
      },
      "execution_count": null,
      "outputs": []
    }
  ]
}
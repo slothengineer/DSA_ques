{
  "nbformat": 4,
  "nbformat_minor": 0,
  "metadata": {
    "colab": {
      "provenance": []
    },
    "kernelspec": {
      "name": "python3",
      "display_name": "Python 3"
    },
    "language_info": {
      "name": "python"
    }
  },
  "cells": [
    {
      "cell_type": "code",
      "execution_count": 9,
      "metadata": {
        "colab": {
          "base_uri": "https://localhost:8080/"
        },
        "id": "8GAK0LScr9n6",
        "outputId": "1ba4b071-19f7-41a1-b385-1c8b79fd1547"
      },
      "outputs": [
        {
          "output_type": "stream",
          "name": "stdout",
          "text": [
            "0\n"
          ]
        }
      ],
      "source": [
        "def firstuniquechar(s):\n",
        "  frequency={}\n",
        "  for i in s:\n",
        "    frequency[i] = frequency.get(i, 0) + 1\n",
        "  for j in range(len(s)):\n",
        "        if frequency[s[j]] == 1:\n",
        "            return j\n",
        "  return -1\n",
        "\n",
        "\n",
        "s = \"theincredibleindia\"\n",
        "print(firstuniquechar(s))"
      ]
    },
    {
      "cell_type": "code",
      "source": [
        " s = \"loveyourmotherland\"\n",
        " print(firstuniquechar(s))\n"
      ],
      "metadata": {
        "colab": {
          "base_uri": "https://localhost:8080/"
        },
        "id": "DioW_B9xtun7",
        "outputId": "e8639192-e313-410f-e660-3d90ae7fd329"
      },
      "execution_count": 6,
      "outputs": [
        {
          "output_type": "stream",
          "name": "stdout",
          "text": [
            "2\n"
          ]
        }
      ]
    },
    {
      "cell_type": "code",
      "source": [],
      "metadata": {
        "id": "aYNO9zHWwxGn"
      },
      "execution_count": null,
      "outputs": []
    }
  ]
}
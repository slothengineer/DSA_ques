{
 "cells": [
  {
   "cell_type": "markdown",
   "id": "f267d664-bdeb-4535-b6a5-597e85d22d46",
   "metadata": {},
   "source": [
    "###  1.Create a dictionary called fruits with the following key-value pairs:\n",
    "    \"apple\": 0.75\n",
    "    \"banana\": 1.25\n",
    "    \"orange\": 0.90\n",
    "     Then, print out the price of a banana"
   ]
  },
  {
   "cell_type": "code",
   "execution_count": 1,
   "id": "38f512ba-09ee-4eeb-9c00-c5a27d97508d",
   "metadata": {},
   "outputs": [
    {
     "name": "stdout",
     "output_type": "stream",
     "text": [
      "price of banana: 1.25\n"
     ]
    }
   ],
   "source": [
    "fruits={\n",
    "       'apple':0.75,\n",
    "       'banana':1.25,\n",
    "       'orange':0.90\n",
    "}\n",
    "print('price of banana:',fruits['banana'])"
   ]
  },
  {
   "cell_type": "markdown",
   "id": "d7d56815-db9e-4db2-ae3b-9d77b2cfb221",
   "metadata": {},
   "source": [
    "### 2.Create an empty dictionary called ages. Add the following key-value pairs to the dictionary:\n",
    "    \"Alice\": 30\n",
    "    \"Bob\": 25\n",
    "    \"Charlie\": 35\n",
    "    Then, print out the age of Charlie."
   ]
  },
  {
   "cell_type": "code",
   "execution_count": 2,
   "id": "6deb1b6e-d256-4484-87d1-c8e401f2489d",
   "metadata": {},
   "outputs": [
    {
     "name": "stdout",
     "output_type": "stream",
     "text": [
      "{'alice': 30, 'bob': 25, 'charlie': 35}\n",
      "age of charlie 35\n"
     ]
    }
   ],
   "source": [
    "ages={}\n",
    "ages['alice']=30\n",
    "ages['bob']=25\n",
    "ages['charlie']=35\n",
    "print(ages)\n",
    "print('age of charlie',ages['charlie'])"
   ]
  },
  {
   "cell_type": "markdown",
   "id": "912d061b-e1ad-476e-a414-41b78ae9c894",
   "metadata": {},
   "source": [
    "### 3.Write a function called word_count(text) that takes a string as input and returns a dictionary where each key is a word in the text and its value is the number of times that word appears in the text. For example, word_count(\"hello world hello\") should return {\"hello\": 2, \"world\": 1}"
   ]
  },
  {
   "cell_type": "code",
   "execution_count": 3,
   "id": "6094195f-7365-4665-8e40-3294e57faaaa",
   "metadata": {},
   "outputs": [],
   "source": [
    "def word_count(text):\n",
    "    words=text.lower().split()  ##for lowercase and spliting in words\n",
    "    counts={}\n",
    "    for i in words:\n",
    "        if i in counts:\n",
    "            counts[i]+=1\n",
    "        else:\n",
    "            counts[i]=1\n",
    "    return counts"
   ]
  },
  {
   "cell_type": "code",
   "execution_count": 4,
   "id": "47b9dae2-cd09-4df4-b863-8fdb336af97a",
   "metadata": {},
   "outputs": [
    {
     "name": "stdout",
     "output_type": "stream",
     "text": [
      "{'in': 1, 'the': 1, 'bustling': 1, 'city': 1, ',': 2, 'cars': 1, 'honked': 2, 'and': 3, 'while': 1, 'people': 1, 'hurried': 2, 'creating': 1, 'a': 1, 'symphony': 1, 'of': 1, 'noise': 1, 'motion.': 1}\n"
     ]
    }
   ],
   "source": [
    "print(word_count('In the bustling city , cars honked and honked while people hurried and hurried , creating a symphony of noise and motion.'))\n"
   ]
  },
  {
   "cell_type": "markdown",
   "id": "07ad72a6-3ca6-4888-bb43-6cdbb50cb094",
   "metadata": {},
   "source": [
    "### 4. Create a dictionary called phone_book with the following key-value pairs:\n",
    "       \"Alice\": \"555-1234\"\n",
    "       \"Bob\": \"555-5678\"\n",
    "       \"Charlie\": \"555-9012\"\n",
    "        Then, prompt the user to enter a name and print out the corresponding phone number. If the name is not \n",
    "        in the phone book, print out a message saying that the name was not found"
   ]
  },
  {
   "cell_type": "code",
   "execution_count": 5,
   "id": "8ac4d2c4-8f37-4728-8cab-439faea672eb",
   "metadata": {},
   "outputs": [
    {
     "name": "stdin",
     "output_type": "stream",
     "text": [
      "enter the name to lookup in phone book: bo \n"
     ]
    },
    {
     "name": "stdout",
     "output_type": "stream",
     "text": [
      "bo  is  not found\n"
     ]
    }
   ],
   "source": [
    "phone_book={'alice':'555-1234',\n",
    "           'bob':'555-5687',\n",
    "           'charlie':'555-9012'}\n",
    "name=input('enter the name to lookup in phone book:')\n",
    "if name in phone_book:\n",
    "    phone_number=phone_book[name]\n",
    "    print(f\"{name}'s phone no. is {phone_number}\")\n",
    "else:\n",
    "    print(f\"{name} is  not found\")"
   ]
  },
  {
   "cell_type": "markdown",
   "id": "b462ecad-69ca-4a2e-b19b-fff652deaf5e",
   "metadata": {},
   "source": [
    "### 5. Write a program that prompts the user to enter a number between 1 and 10. If the number is less than 5, print out \"Too low!\", otherwise print out \"Too high!\""
   ]
  },
  {
   "cell_type": "code",
   "execution_count": 6,
   "id": "cb7c35de-6a71-466b-85c0-56557c924577",
   "metadata": {},
   "outputs": [
    {
     "name": "stdin",
     "output_type": "stream",
     "text": [
      "enter a no. b/w 1 and 10 9\n"
     ]
    },
    {
     "name": "stdout",
     "output_type": "stream",
     "text": [
      "too high\n"
     ]
    }
   ],
   "source": [
    "number=int(input('enter a no. b/w 1 and 10'))\n",
    "if number<5:\n",
    "    print('too low')\n",
    "else:\n",
    "    print('too high')"
   ]
  },
  {
   "cell_type": "markdown",
   "id": "fe236b90-413d-423f-af8c-82c7292bc754",
   "metadata": {},
   "source": [
    "### 6.Write a program that prompts the user to enter a password. If the password is \"password123\", print out \"Access granted\", otherwise print out \"Access denied\""
   ]
  },
  {
   "cell_type": "code",
   "execution_count": 7,
   "id": "6d8768d1-ab34-4b4a-a440-316b19ab8208",
   "metadata": {},
   "outputs": [
    {
     "name": "stdin",
     "output_type": "stream",
     "text": [
      "enter the password: lkj\n"
     ]
    },
    {
     "name": "stdout",
     "output_type": "stream",
     "text": [
      "access denied\n"
     ]
    }
   ],
   "source": [
    "password=input('enter the password:')\n",
    "if password == 'password123':\n",
    "    print('access granted')\n",
    "else:\n",
    "    print('access denied')\n",
    "    "
   ]
  },
  {
   "cell_type": "markdown",
   "id": "a93e81c7-6360-48f6-b118-caa7ceb7f4bb",
   "metadata": {},
   "source": [
    "### 7. Write a program that prompts the user to enter a positive integer. Then, use a loop to print out all the odd numbers from 1 to that integer"
   ]
  },
  {
   "cell_type": "code",
   "execution_count": 8,
   "id": "34fc58fa-b13e-4376-bfed-404687c56586",
   "metadata": {},
   "outputs": [
    {
     "name": "stdin",
     "output_type": "stream",
     "text": [
      "enter a positive integer: 23\n"
     ]
    },
    {
     "name": "stdout",
     "output_type": "stream",
     "text": [
      "1\n",
      "3\n",
      "5\n",
      "7\n",
      "9\n",
      "11\n",
      "13\n",
      "15\n",
      "17\n",
      "19\n",
      "21\n",
      "23\n"
     ]
    }
   ],
   "source": [
    "integer=int(input('enter a positive integer:'))\n",
    "for i in range(1,integer+1,2): ##range(strt,end,increment on every iteration)\n",
    "    print(i)"
   ]
  },
  {
   "cell_type": "markdown",
   "id": "cc67e41f-71a0-41f9-9a19-ed8c0ca877d5",
   "metadata": {},
   "source": [
    "### 8.Write a program that generates a random number between 1 and 100 and then prompts the user to guess the number. If the user's guess is too low, print out \"Too low!\", if the guess is too high, print out \"Too high!\", and if the guess is correct, print out \"You win!\"."
   ]
  },
  {
   "cell_type": "code",
   "execution_count": null,
   "id": "64f4a587-18c6-4c81-aab7-82e7cbdbd493",
   "metadata": {},
   "outputs": [
    {
     "name": "stdin",
     "output_type": "stream",
     "text": [
      "guess the number b/w 1 and 100: 56\n"
     ]
    },
    {
     "name": "stdout",
     "output_type": "stream",
     "text": [
      "too high!\n"
     ]
    },
    {
     "name": "stdin",
     "output_type": "stream",
     "text": [
      "Guess again:  25\n"
     ]
    },
    {
     "name": "stdout",
     "output_type": "stream",
     "text": [
      "too high!\n"
     ]
    },
    {
     "name": "stdin",
     "output_type": "stream",
     "text": [
      "Guess again:  1\n"
     ]
    },
    {
     "name": "stdout",
     "output_type": "stream",
     "text": [
      "too low!\n"
     ]
    },
    {
     "name": "stdin",
     "output_type": "stream",
     "text": [
      "Guess again:  26\n"
     ]
    },
    {
     "name": "stdout",
     "output_type": "stream",
     "text": [
      "too high!\n"
     ]
    }
   ],
   "source": [
    "import random\n",
    "\n",
    "secret=random.randint(1,100)\n",
    "guess=int(input('guess the number b/w 1 and 100:'))\n",
    "while guess!= secret:\n",
    "    if guess<secret:\n",
    "        print('too low!')\n",
    "    else:\n",
    "        print('too high!')\n",
    "    guess = int(input(\"Guess again: \"))\n",
    "print('u win')"
   ]
  },
  {
   "cell_type": "markdown",
   "id": "be5cb81f-61a1-42e9-988f-98f45839dfc4",
   "metadata": {},
   "source": [
    "### 9.Write a program that generates a random number between 1 and 10 and then prompts the user to guess the number. The user has three attempts to guess the number. If the user guesses correctly within three attempts, print out \"You win!\", otherwise print out \"You lose!\""
   ]
  },
  {
   "cell_type": "code",
   "execution_count": 4,
   "id": "f6e5a061-2837-4d94-afe3-115ec75f8a18",
   "metadata": {},
   "outputs": [
    {
     "name": "stdin",
     "output_type": "stream",
     "text": [
      "guess the number b/w 1 and 10: 1\n"
     ]
    },
    {
     "name": "stdout",
     "output_type": "stream",
     "text": [
      "too low!\n"
     ]
    },
    {
     "name": "stdin",
     "output_type": "stream",
     "text": [
      "guess the number b/w 1 and 10: 2\n"
     ]
    },
    {
     "name": "stdout",
     "output_type": "stream",
     "text": [
      "too low!\n"
     ]
    },
    {
     "name": "stdin",
     "output_type": "stream",
     "text": [
      "guess the number b/w 1 and 10: 3\n"
     ]
    },
    {
     "name": "stdout",
     "output_type": "stream",
     "text": [
      "too low!\n",
      "u loss\n"
     ]
    }
   ],
   "source": [
    "import random\n",
    "\n",
    "secret=random.randint(1,10)\n",
    "attempt=3\n",
    "while attempt>0:\n",
    "    guess=int(input('guess the number b/w 1 and 10:'))\n",
    "    if guess==secret:\n",
    "        print('u win')\n",
    "        break\n",
    "    elif guess<secret:\n",
    "        print('too low!')\n",
    "    else:\n",
    "        print('too high!')\n",
    "    attempt-=1\n",
    "if attempt==0:\n",
    "    print('u loss')"
   ]
  },
  {
   "cell_type": "markdown",
   "id": "7375367a-c130-426d-b8ae-f86431d11e95",
   "metadata": {},
   "source": [
    "### 10.Write a program that prompts the user to enter their age and then prints out whether they are a child (age 0-12), a teenager (age 13-19), an adult (age 20-59), or a senior (age 60+"
   ]
  },
  {
   "cell_type": "code",
   "execution_count": 7,
   "id": "4c39206e-a929-4b16-a123-9c103b1e38ea",
   "metadata": {},
   "outputs": [
    {
     "name": "stdin",
     "output_type": "stream",
     "text": [
      "Enter ur age: -5\n"
     ]
    },
    {
     "name": "stdout",
     "output_type": "stream",
     "text": [
      "Invalid input\n"
     ]
    }
   ],
   "source": [
    "age=int(input('Enter ur age:'))\n",
    "\n",
    "if age >= 0 and age <= 12:\n",
    "    print(\"You are a child.\")\n",
    "elif age >= 13 and age <= 19:\n",
    "    print(\"You are a teenager.\")\n",
    "elif age >= 20 and age <= 59:\n",
    "    print(\"You are an adult.\")\n",
    "elif age >= 60:\n",
    "    print(\"You are a senior.\")\n",
    "else:\n",
    "    print(\"Invalid input\")\n"
   ]
  },
  {
   "cell_type": "code",
   "execution_count": null,
   "id": "02d4970e-3520-410b-a677-7b6cf273bb5a",
   "metadata": {},
   "outputs": [],
   "source": []
  }
 ],
 "metadata": {
  "kernelspec": {
   "display_name": "Python 3 (ipykernel)",
   "language": "python",
   "name": "python3"
  },
  "language_info": {
   "codemirror_mode": {
    "name": "ipython",
    "version": 3
   },
   "file_extension": ".py",
   "mimetype": "text/x-python",
   "name": "python",
   "nbconvert_exporter": "python",
   "pygments_lexer": "ipython3",
   "version": "3.10.8"
  }
 },
 "nbformat": 4,
 "nbformat_minor": 5
}

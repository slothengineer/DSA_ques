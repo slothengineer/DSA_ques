{
  "nbformat": 4,
  "nbformat_minor": 0,
  "metadata": {
    "colab": {
      "provenance": []
    },
    "kernelspec": {
      "name": "python3",
      "display_name": "Python 3"
    },
    "language_info": {
      "name": "python"
    }
  },
  "cells": [
    {
      "cell_type": "markdown",
      "source": [
        "17-Write a function that takes a list of numbers as input and returns a new list containing only the even numbers from the input list. Use list comprehension to solve this problem.\n"
      ],
      "metadata": {
        "id": "kd_hhpgcVC7I"
      }
    },
    {
      "cell_type": "code",
      "execution_count": 2,
      "metadata": {
        "colab": {
          "base_uri": "https://localhost:8080/"
        },
        "id": "X_7wKnR7SpfC",
        "outputId": "3e466c51-55a5-49b9-a226-c768136cda30"
      },
      "outputs": [
        {
          "output_type": "stream",
          "name": "stdout",
          "text": [
            "[2, 4, 6, 8, 10]\n"
          ]
        }
      ],
      "source": [
        "def evennumbers(numbers):\n",
        "  list1=[]\n",
        "  even_numbers=[num for num in numbers if num%2==0]\n",
        "  return even_numbers\n",
        "\n",
        "\n",
        "numbers=[1, 2, 3, 4, 5, 6, 7, 8, 9, 10]\n",
        "print(evennumbers(numbers))"
      ]
    },
    {
      "cell_type": "markdown",
      "source": [
        "18- Implement a decorator function called ‘timer’ that measures the execution time of a function. The ‘timer’ decorator should print the time taken by the decorated function to execute. Use the ‘time’ module in Python to calculate the execution time."
      ],
      "metadata": {
        "id": "Omq48niRWJQk"
      }
    },
    {
      "cell_type": "code",
      "source": [
        "import time\n",
        "def timer(func):\n",
        "  def wrapper(*args,**kwargs):\n",
        "    start_time=time.time()\n",
        "    result=func(*args,**kwargs)\n",
        "    end_time=time.time()\n",
        "    execution_time=end_time-start_time\n",
        "    print(f\"execution time of {func.__name__}:{execution_time} seconds\")\n",
        "    return result\n",
        "  return wrapper\n",
        "\n",
        "@timer\n",
        "def function():\n",
        "  time.sleep(2)\n",
        "function()"
      ],
      "metadata": {
        "colab": {
          "base_uri": "https://localhost:8080/"
        },
        "id": "KjNlKSILV8Lq",
        "outputId": "22c0ace3-395a-490c-9480-f596f692fdf7"
      },
      "execution_count": 5,
      "outputs": [
        {
          "output_type": "stream",
          "name": "stdout",
          "text": [
            "execution time of function:2.000427484512329 seconds\n"
          ]
        }
      ]
    },
    {
      "cell_type": "markdown",
      "source": [
        "19-Write a function called ‘calculate_mean’ that takes a list of numbers as input and returns the mean (average) of the numbers. The function should calculate the mean using the sum of the numbers divided by the total count."
      ],
      "metadata": {
        "id": "hZ9E94oRZZyy"
      }
    },
    {
      "cell_type": "code",
      "source": [
        "def calculate_mean(list):\n",
        "  sumofnumbers=sum(list)\n",
        "  count=len(list)\n",
        "  mean=sumofnumbers/count\n",
        "  return mean\n",
        "\n",
        "numbers=[10, 15, 20, 25, 30]\n",
        "print(calculate_mean(numbers))"
      ],
      "metadata": {
        "colab": {
          "base_uri": "https://localhost:8080/"
        },
        "id": "-r4uAi3KY8ne",
        "outputId": "b62f667e-9ec4-4e37-d6b6-ace0d5a4c09b"
      },
      "execution_count": 6,
      "outputs": [
        {
          "output_type": "stream",
          "name": "stdout",
          "text": [
            "20.0\n"
          ]
        }
      ]
    },
    {
      "cell_type": "markdown",
      "source": [
        "20-Write a function called ‘perform_hypothesis_test’ that takes two lists of numbers as input, representing two samples. The function should perform a two-sample t-test and return the p-value. Use the ‘scipy.stats’ module in Python to calculate the t-test and p-value."
      ],
      "metadata": {
        "id": "iLILUibfbBld"
      }
    },
    {
      "cell_type": "code",
      "source": [
        "from scipy.stats import ttest_ind\n",
        "def perform_hypothesis_test(list1,list2):\n",
        "  t_stats,p_value=ttest_ind(list1,list2)\n",
        "  return p_value\n",
        "\n",
        "\n",
        "sample1 = [5,10,15,20,25]\n",
        "sample2 = [10,20,30,40,50]\n",
        "print(perform_hypothesis_test(sample1,sample2))"
      ],
      "metadata": {
        "colab": {
          "base_uri": "https://localhost:8080/"
        },
        "id": "FgvD9WeVawYa",
        "outputId": "37180ffb-f01e-4d3d-b1a6-3758cbcbacb3"
      },
      "execution_count": 8,
      "outputs": [
        {
          "output_type": "stream",
          "name": "stdout",
          "text": [
            "0.09434977284243756\n"
          ]
        }
      ]
    },
    {
      "cell_type": "code",
      "source": [],
      "metadata": {
        "id": "Khux8a1-ckYY"
      },
      "execution_count": null,
      "outputs": []
    }
  ]
}
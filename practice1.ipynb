{
 "cells": [
  {
   "cell_type": "code",
   "execution_count": 4,
   "id": "fec093cd-dd14-4e84-805f-41565808dd06",
   "metadata": {},
   "outputs": [
    {
     "name": "stdout",
     "output_type": "stream",
     "text": [
      "11\n"
     ]
    }
   ],
   "source": [
    "def add_numbers(x,y):\n",
    "    return x+y\n",
    "result=add_numbers(5,6)\n",
    "print(result)"
   ]
  },
  {
   "cell_type": "code",
   "execution_count": 13,
   "id": "8a01aeff-3029-4635-96de-ea650dc8e2f5",
   "metadata": {},
   "outputs": [
    {
     "name": "stdin",
     "output_type": "stream",
     "text": [
      "enter the no.: 100\n"
     ]
    },
    {
     "name": "stdout",
     "output_type": "stream",
     "text": [
      "square root of given no. is: 10.0\n"
     ]
    }
   ],
   "source": [
    "import math\n",
    "sqrt=math.sqrt(int(input('enter the no.:')))\n",
    "print('square root of given no. is:',sqrt)"
   ]
  },
  {
   "cell_type": "code",
   "execution_count": 47,
   "id": "a69055f8-117a-4caa-ac63-6b4cebb3e767",
   "metadata": {},
   "outputs": [
    {
     "data": {
      "text/plain": [
       "[2, 3, 5, 7, 11, 13, 17, 19, 23, 29, 31, 37, 41, 43, 47]"
      ]
     },
     "execution_count": 47,
     "metadata": {},
     "output_type": "execute_result"
    }
   ],
   "source": [
    "[i for i in range(2,50) if all(i%j!=0 for j in range(2,i) )]\n",
    "    "
   ]
  },
  {
   "cell_type": "code",
   "execution_count": 49,
   "id": "b6023665-f49f-47bb-9cc1-3fdcf088eef9",
   "metadata": {},
   "outputs": [
    {
     "name": "stdout",
     "output_type": "stream",
     "text": [
      "2\n",
      "3\n",
      "5\n",
      "7\n",
      "11\n",
      "13\n",
      "17\n",
      "19\n",
      "23\n",
      "29\n",
      "31\n",
      "37\n",
      "41\n",
      "43\n",
      "47\n"
     ]
    }
   ],
   "source": [
    "for i in range(0,(50+1)):\n",
    "    if i>1:\n",
    "        for j in range(2,i):\n",
    "            if (i%j)==0:\n",
    "                break\n",
    "        else:\n",
    "            print(i)"
   ]
  },
  {
   "cell_type": "code",
   "execution_count": 66,
   "id": "593567c9-00bd-4dce-bf69-42868cfc4a64",
   "metadata": {},
   "outputs": [
    {
     "name": "stdout",
     "output_type": "stream",
     "text": [
      "Before swapping a=5,b=8,c=9\n",
      "After swapping a=9,b=5,c=8\n"
     ]
    }
   ],
   "source": [
    "\n",
    "def swap(a,b,c):\n",
    "    a=a+b+c\n",
    "    b=a-(b+c)\n",
    "    c=a-(b+c)\n",
    "    a=a-(b+c)\n",
    "    print(\"After swapping a={},b={},c={}\".format(a,b,c))\n",
    "\n",
    "if __name__ == '__main__':\n",
    "    a=5\n",
    "    b=8\n",
    "    c=9\n",
    " \n",
    "    print(\"Before swapping a={},b={},c={}\".format(a,b,c))\n",
    " \n",
    "    swap(a,b,c)"
   ]
  },
  {
   "cell_type": "code",
   "execution_count": 59,
   "id": "0ab82f6d-f7ee-428e-85cb-33a279858522",
   "metadata": {},
   "outputs": [
    {
     "name": "stdout",
     "output_type": "stream",
     "text": [
      "a = 9\n",
      "b = 5\n",
      "c = 8\n"
     ]
    }
   ],
   "source": [
    "a = 5\n",
    "b = 8\n",
    "c = 9\n",
    "\n",
    "a, b, c = c, a, b\n",
    "\n",
    "print(\"a =\", a)\n",
    "print(\"b =\", b)\n",
    "print(\"c =\", c)\n"
   ]
  },
  {
   "cell_type": "code",
   "execution_count": 75,
   "id": "0b236bec-d248-408f-afa9-18f8a9440a03",
   "metadata": {},
   "outputs": [
    {
     "name": "stdin",
     "output_type": "stream",
     "text": [
      "enter the no.: 0\n"
     ]
    },
    {
     "name": "stdout",
     "output_type": "stream",
     "text": [
      "no is zero\n"
     ]
    }
   ],
   "source": [
    "number=int(input('enter the no.:'))\n",
    "if number>0:\n",
    "    print ('no is positive')\n",
    "elif number<0:\n",
    "    print ('no is negative')\n",
    "else:\n",
    "    print('no is zero')\n"
   ]
  },
  {
   "cell_type": "code",
   "execution_count": 80,
   "id": "c998e69e-6392-4ac6-b133-8c85f0ba49cd",
   "metadata": {},
   "outputs": [
    {
     "name": "stdout",
     "output_type": "stream",
     "text": [
      "no is positive\n"
     ]
    }
   ],
   "source": [
    "number=87\n",
    "if number>0:\n",
    "    print ('no is positive')\n",
    "elif number<0:\n",
    "    print ('no is negative')\n",
    "else:\n",
    "    print('no is zero')\n"
   ]
  },
  {
   "cell_type": "code",
   "execution_count": 78,
   "id": "823aa438-f55c-4a9a-ad8e-b86e3240e5cc",
   "metadata": {},
   "outputs": [
    {
     "name": "stdin",
     "output_type": "stream",
     "text": [
      "enter the no.: 54\n"
     ]
    },
    {
     "name": "stdout",
     "output_type": "stream",
     "text": [
      "no. is even\n"
     ]
    }
   ],
   "source": [
    "number=int(input('enter the no.:'))\n",
    "if number%2==0:\n",
    "    print('no. is even')\n",
    "else:\n",
    "    print('no. is odd')"
   ]
  },
  {
   "cell_type": "code",
   "execution_count": 79,
   "id": "1f75dfcc-38c9-4222-aaae-a64640d4cf57",
   "metadata": {},
   "outputs": [
    {
     "name": "stdout",
     "output_type": "stream",
     "text": [
      "no. is even\n"
     ]
    }
   ],
   "source": [
    "number=98\n",
    "if number%2==0:\n",
    "    print('no. is even')\n",
    "else:\n",
    "    print('no. is odd')"
   ]
  },
  {
   "cell_type": "markdown",
   "id": "6dea15c4-f93d-42f3-8917-01f9f42873ae",
   "metadata": {},
   "source": [
    "### Que-7:Write a program for sum of digits.the digits are 76543 and the output should be  25."
   ]
  },
  {
   "cell_type": "code",
   "execution_count": 83,
   "id": "70cca4b6-7712-45ec-842a-ff9037822507",
   "metadata": {},
   "outputs": [
    {
     "name": "stdout",
     "output_type": "stream",
     "text": [
      "the sum of digits= 25\n"
     ]
    }
   ],
   "source": [
    "number=76543\n",
    "sum_of_digits=0\n",
    "while number>0:\n",
    "    sum_of_digits+= number%10    ## x+=3 means \tx = x + 3\n",
    "    number//= 10  ## //  is floor division, rounds the result down to the nearest whole number(x//=10 means x=x//10)\n",
    "print ('the sum of digits=',sum_of_digits)\n",
    "    "
   ]
  },
  {
   "cell_type": "markdown",
   "id": "9eb4c30d-4aca-49b7-9a89-0ef996617931",
   "metadata": {},
   "source": [
    "### Que-8:Write a program for reversing the given number  5436 and the output  should be 6345."
   ]
  },
  {
   "cell_type": "code",
   "execution_count": 85,
   "id": "8600ce2c-5597-452a-b4fa-11127dfec254",
   "metadata": {},
   "outputs": [
    {
     "name": "stdout",
     "output_type": "stream",
     "text": [
      "the reverse of given no is:  6345\n"
     ]
    }
   ],
   "source": [
    "number=5436\n",
    "reverse=0\n",
    "while number>0:\n",
    "    digit=number%10\n",
    "    reverse=(reverse*10)+digit\n",
    "    number//=10\n",
    "print(\"the reverse of given no is: \",reverse)"
   ]
  },
  {
   "cell_type": "markdown",
   "id": "63115131-ddd0-4224-9ab2-5dddfcef558b",
   "metadata": {},
   "source": [
    "### Que-9:Write a program to check if a given number 371 is an Armstrong number"
   ]
  },
  {
   "cell_type": "code",
   "execution_count": 4,
   "id": "6a60a46c-1d7e-40ea-a108-5979fb0e0207",
   "metadata": {},
   "outputs": [
    {
     "name": "stdout",
     "output_type": "stream",
     "text": [
      "371 is armstraong no\n"
     ]
    }
   ],
   "source": [
    "number=371\n",
    "summation = 0\n",
    "temp=number\n",
    "while temp>0:\n",
    "    digit= temp%10\n",
    "    summation+= digit**3\n",
    "    temp //= 10\n",
    "    \n",
    "if summation==number:\n",
    "        print(summation,'is armstraong no')\n",
    "else:\n",
    "        print(summation,'is not an armstrong')\n",
    "    "
   ]
  },
  {
   "cell_type": "markdown",
   "id": "bd0ba57a-bae7-4bb3-ab8c-4f4bbf5f6f05",
   "metadata": {},
   "source": [
    "### Que-10:Write a program the given year is 1996, a leap year"
   ]
  },
  {
   "cell_type": "code",
   "execution_count": 5,
   "id": "790f79a3-6436-4a3a-9c2d-25b2489da7e9",
   "metadata": {},
   "outputs": [
    {
     "name": "stdout",
     "output_type": "stream",
     "text": [
      "1996 is a leap year\n"
     ]
    }
   ],
   "source": [
    "year=1996\n",
    "if (year % 4 == 0 and year % 100 != 0):\n",
    "    print(year,'is a leap year')\n",
    "else:\n",
    "    print(year,'is not a leap year')\n"
   ]
  },
  {
   "cell_type": "code",
   "execution_count": 9,
   "id": "d451ce23-80f5-4e63-9126-8e4379081666",
   "metadata": {},
   "outputs": [
    {
     "name": "stdin",
     "output_type": "stream",
     "text": [
      "enter the year 2020\n"
     ]
    },
    {
     "name": "stdout",
     "output_type": "stream",
     "text": [
      "2020 is a leap year\n"
     ]
    }
   ],
   "source": [
    "year=int(input('enter the year'))\n",
    "if (year % 4 == 0 and year % 100 != 0) or (year % 400 == 0): ## or for century year\n",
    "    print(year,'is a leap year')\n",
    "else:\n",
    "    print(year,'is not a leap year')\n"
   ]
  },
  {
   "cell_type": "code",
   "execution_count": null,
   "id": "6740b7c9-3426-4558-a1b0-c141df39c00f",
   "metadata": {},
   "outputs": [],
   "source": []
  }
 ],
 "metadata": {
  "kernelspec": {
   "display_name": "Python 3 (ipykernel)",
   "language": "python",
   "name": "python3"
  },
  "language_info": {
   "codemirror_mode": {
    "name": "ipython",
    "version": 3
   },
   "file_extension": ".py",
   "mimetype": "text/x-python",
   "name": "python",
   "nbconvert_exporter": "python",
   "pygments_lexer": "ipython3",
   "version": "3.10.8"
  }
 },
 "nbformat": 4,
 "nbformat_minor": 5
}
